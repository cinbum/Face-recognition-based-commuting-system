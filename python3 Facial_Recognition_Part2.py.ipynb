{
 "cells": [
  {
   "cell_type": "code",
   "execution_count": 1,
   "metadata": {},
   "outputs": [
    {
     "name": "stdout",
     "output_type": "stream",
     "text": [
      "Model Training Complete!!!!!\n"
     ]
    }
   ],
   "source": [
    "import cv2\n",
    "import numpy as np\n",
    "from os import listdir\n",
    "from os.path import isfile, join\n",
    "data_path = 'faces/'\n",
    "#faces폴더에 있는 파일 리스트 얻기 \n",
    "onlyfiles = [f for f in listdir(data_path) if isfile(join(data_path,f))]\n",
    "#데이터와 매칭될 라벨 변수 \n",
    "Training_Data, Labels = [], []\n",
    "#파일 개수 만큼 루프 \n",
    "for i, files in enumerate(onlyfiles):    \n",
    "    image_path = data_path + onlyfiles[i]\n",
    "    #이미지 불러오기 \n",
    "    images = cv2.imread(image_path, cv2.IMREAD_GRAYSCALE)\n",
    "    #이미지 파일이 아니거나 못 읽어 왔다면 무시\n",
    "    if images is None:\n",
    "        continue    \n",
    "    #Training_Data 리스트에 이미지를 바이트 배열로 추가 \n",
    "    Training_Data.append(np.asarray(images, dtype=np.uint8))\n",
    "    #Labels 리스트엔 카운트 번호 추가 \n",
    "    Labels.append(i)\n",
    "\n",
    "#훈련할 데이터가 없다면 종료.\n",
    "if len(Labels) == 0:\n",
    "    print(\"There is no data to train.\")\n",
    "    exit()\n",
    "\n",
    "#Labels를 32비트 정수로 변환\n",
    "Labels = np.asarray(Labels, dtype=np.int32)\n",
    "#모델 생성 \n",
    "model = cv2.face.LBPHFaceRecognizer_create()\n",
    "#학습 시작 \n",
    "model.train(np.asarray(Training_Data), np.asarray(Labels))\n",
    "print(\"Model Training Complete!!!!!\")"
   ]
  },
  {
   "cell_type": "code",
   "execution_count": null,
   "metadata": {},
   "outputs": [],
   "source": []
  },
  {
   "cell_type": "code",
   "execution_count": null,
   "metadata": {},
   "outputs": [],
   "source": []
  }
 ],
 "metadata": {
  "kernelspec": {
   "display_name": "Python 3",
   "language": "python",
   "name": "python3"
  },
  "language_info": {
   "codemirror_mode": {
    "name": "ipython",
    "version": 3
   },
   "file_extension": ".py",
   "mimetype": "text/x-python",
   "name": "python",
   "nbconvert_exporter": "python",
   "pygments_lexer": "ipython3",
   "version": "3.8.5"
  }
 },
 "nbformat": 4,
 "nbformat_minor": 4
}
